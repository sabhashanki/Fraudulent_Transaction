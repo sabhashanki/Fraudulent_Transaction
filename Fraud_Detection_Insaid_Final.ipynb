{
  "nbformat": 4,
  "nbformat_minor": 0,
  "metadata": {
    "colab": {
      "provenance": [],
      "collapsed_sections": [
        "PybxvTsewEC6",
        "QqWckgPonKZW"
      ],
      "authorship_tag": "ABX9TyM0a1DJg1vAOfgpqLueZ2Lg",
      "include_colab_link": true
    },
    "kernelspec": {
      "name": "python3",
      "display_name": "Python 3"
    },
    "language_info": {
      "name": "python"
    }
  },
  "cells": [
    {
      "cell_type": "markdown",
      "metadata": {
        "id": "view-in-github",
        "colab_type": "text"
      },
      "source": [
        "<a href=\"https://colab.research.google.com/github/sabhashanki/Fraudulent_Transaction/blob/main/Fraud_Detection_Insaid_Final.ipynb\" target=\"_parent\"><img src=\"https://colab.research.google.com/assets/colab-badge.svg\" alt=\"Open In Colab\"/></a>"
      ]
    },
    {
      "cell_type": "markdown",
      "source": [
        "##**Fraudulent Transaction Prediction**"
      ],
      "metadata": {
        "id": "nLBbvkd67Fr1"
      }
    },
    {
      "cell_type": "markdown",
      "source": [
        "### **Abstract**\n",
        "\n",
        "##### Worldwide financial losses caused by credit card fraudulent activities are worth tens of billions of dollars. There exists a wide variety of scenarios that may lead a fraudster to successfully perform fraudulent payments with a credit card. As technology evolves, both in terms of fraud prevention and ease of use of payment systems, so do fraudster techniques. They adapt by moving from the old (and by now fixed) targets to the vulnerability of the new technologies. They also benefit from the constant changes in volume and characteristics of genuine transactions.\n",
        "\n",
        "\n",
        "#####It is useful to distinguish two transaction scenarios. The first, called card-present (CP) scenarios, refer to scenarios where a physical card is needed, such as transactions at a store (also referred to as a point-of-sale - POS) or transactions at a cashpoint (for instance at an automated teller machine - ATM). The second, called card-not-present (CNP) scenarios, refers to scenarios where a physical card does not need to be used, which encompasses payments performed on the Internet, by phone, or by mail.\n",
        "\n",
        "#####Card-present frauds occur when a fraudster manages to make a successful fraudulent transaction using a physical payment card, either at an ATM or a POS. In this setting, fraud scenarios are usually categorized as lost or stolen cards, counterfeited cards, and card not received.\n",
        "\n",
        "#####Card-not-present refers to the general category of frauds conducted remotely, either by mail, phone, or on the Internet, using only some of the information present on a card. The data that is generally involved in card-not-present fraud involves the card number, card expiration date, card security code, and personal billing information (such as the cardholder’s address).\n",
        "\n",
        "####**Machine learning for credit card fraud detection**\n",
        "\n",
        "#####Credit card fraud detection (CCFD) is like looking for needles in a haystack. It requires finding, out of millions of daily transactions, which ones are fraudulent. Due to the ever-increasing amount of data, it is now almost impossible for a human specialist to detect meaningful patterns from transaction data. For this reason, the use of machine learning techniques is now widespread in the field of fraud detection, where information extraction from large datasets is required"
      ],
      "metadata": {
        "id": "qZIgjoEx94Ey"
      }
    },
    {
      "cell_type": "code",
      "execution_count": 98,
      "metadata": {
        "id": "1YbRcEasoUSM"
      },
      "outputs": [],
      "source": [
        "# importing necessary libraries\n",
        "import pandas as pd\n",
        "import numpy as np\n",
        "import matplotlib.pyplot as plt\n",
        "import seaborn as sns\n",
        "from sklearn.preprocessing import LabelEncoder\n",
        "from imblearn.under_sampling import RandomUnderSampler\n",
        "from imblearn.over_sampling import RandomOverSampler\n",
        "from sklearn.metrics import precision_recall_fscore_support, roc_auc_score, accuracy_score\n",
        "from sklearn.pipeline import Pipeline\n",
        "from sklearn.svm import SVC\n",
        "from sklearn.ensemble import RandomForestClassifier\n",
        "from sklearn.tree import DecisionTreeClassifier\n",
        "from xgboost import XGBClassifier\n",
        "from sklearn.naive_bayes import GaussianNB\n",
        "from sklearn.linear_model import LogisticRegression \n",
        "import logging\n",
        "import warnings\n",
        "from scipy.stats import boxcox\n",
        "from sklearn.model_selection import train_test_split\n",
        "import plotly.express as px\n"
      ]
    },
    {
      "cell_type": "code",
      "source": [
        "# importing 450MB dataset directly into pandas dataframe\n",
        "dff = pd.read_csv('https://drive.google.com/uc?export=download&confirm=6gh6&id=1VNpyNkGxHdskfdTNRSjjyNa5qC9u0JyV')"
      ],
      "metadata": {
        "id": "ETHrAhd6oZ6b"
      },
      "execution_count": 99,
      "outputs": []
    },
    {
      "cell_type": "code",
      "source": [
        "df = dff.copy()"
      ],
      "metadata": {
        "id": "evHTkRUYcDyb"
      },
      "execution_count": 100,
      "outputs": []
    },
    {
      "cell_type": "code",
      "source": [
        "# Datatypes of features\n",
        "df.info()"
      ],
      "metadata": {
        "colab": {
          "base_uri": "https://localhost:8080/"
        },
        "id": "SyNmcsFPmEfi",
        "outputId": "dca72187-fa01-4c27-ca42-8a86e2c66283"
      },
      "execution_count": 101,
      "outputs": [
        {
          "output_type": "stream",
          "name": "stdout",
          "text": [
            "<class 'pandas.core.frame.DataFrame'>\n",
            "RangeIndex: 6362620 entries, 0 to 6362619\n",
            "Data columns (total 11 columns):\n",
            " #   Column          Dtype  \n",
            "---  ------          -----  \n",
            " 0   step            int64  \n",
            " 1   type            object \n",
            " 2   amount          float64\n",
            " 3   nameOrig        object \n",
            " 4   oldbalanceOrg   float64\n",
            " 5   newbalanceOrig  float64\n",
            " 6   nameDest        object \n",
            " 7   oldbalanceDest  float64\n",
            " 8   newbalanceDest  float64\n",
            " 9   isFraud         int64  \n",
            " 10  isFlaggedFraud  int64  \n",
            "dtypes: float64(5), int64(3), object(3)\n",
            "memory usage: 534.0+ MB\n"
          ]
        }
      ]
    },
    {
      "cell_type": "code",
      "source": [
        "df.describe()"
      ],
      "metadata": {
        "colab": {
          "base_uri": "https://localhost:8080/",
          "height": 364
        },
        "id": "lxomakYbAjft",
        "outputId": "af1635de-e8c3-4c06-819a-42fd416392f4"
      },
      "execution_count": 102,
      "outputs": [
        {
          "output_type": "execute_result",
          "data": {
            "text/plain": [
              "               step        amount  oldbalanceOrg  newbalanceOrig  \\\n",
              "count  6.362620e+06  6.362620e+06   6.362620e+06    6.362620e+06   \n",
              "mean   2.433972e+02  1.798619e+05   8.338831e+05    8.551137e+05   \n",
              "std    1.423320e+02  6.038582e+05   2.888243e+06    2.924049e+06   \n",
              "min    1.000000e+00  0.000000e+00   0.000000e+00    0.000000e+00   \n",
              "25%    1.560000e+02  1.338957e+04   0.000000e+00    0.000000e+00   \n",
              "50%    2.390000e+02  7.487194e+04   1.420800e+04    0.000000e+00   \n",
              "75%    3.350000e+02  2.087215e+05   1.073152e+05    1.442584e+05   \n",
              "max    7.430000e+02  9.244552e+07   5.958504e+07    4.958504e+07   \n",
              "\n",
              "       oldbalanceDest  newbalanceDest       isFraud  isFlaggedFraud  \n",
              "count    6.362620e+06    6.362620e+06  6.362620e+06    6.362620e+06  \n",
              "mean     1.100702e+06    1.224996e+06  1.290820e-03    2.514687e-06  \n",
              "std      3.399180e+06    3.674129e+06  3.590480e-02    1.585775e-03  \n",
              "min      0.000000e+00    0.000000e+00  0.000000e+00    0.000000e+00  \n",
              "25%      0.000000e+00    0.000000e+00  0.000000e+00    0.000000e+00  \n",
              "50%      1.327057e+05    2.146614e+05  0.000000e+00    0.000000e+00  \n",
              "75%      9.430367e+05    1.111909e+06  0.000000e+00    0.000000e+00  \n",
              "max      3.560159e+08    3.561793e+08  1.000000e+00    1.000000e+00  "
            ],
            "text/html": [
              "\n",
              "  <div id=\"df-554312d3-32e0-4891-b6d7-4a4af5f805a6\">\n",
              "    <div class=\"colab-df-container\">\n",
              "      <div>\n",
              "<style scoped>\n",
              "    .dataframe tbody tr th:only-of-type {\n",
              "        vertical-align: middle;\n",
              "    }\n",
              "\n",
              "    .dataframe tbody tr th {\n",
              "        vertical-align: top;\n",
              "    }\n",
              "\n",
              "    .dataframe thead th {\n",
              "        text-align: right;\n",
              "    }\n",
              "</style>\n",
              "<table border=\"1\" class=\"dataframe\">\n",
              "  <thead>\n",
              "    <tr style=\"text-align: right;\">\n",
              "      <th></th>\n",
              "      <th>step</th>\n",
              "      <th>amount</th>\n",
              "      <th>oldbalanceOrg</th>\n",
              "      <th>newbalanceOrig</th>\n",
              "      <th>oldbalanceDest</th>\n",
              "      <th>newbalanceDest</th>\n",
              "      <th>isFraud</th>\n",
              "      <th>isFlaggedFraud</th>\n",
              "    </tr>\n",
              "  </thead>\n",
              "  <tbody>\n",
              "    <tr>\n",
              "      <th>count</th>\n",
              "      <td>6.362620e+06</td>\n",
              "      <td>6.362620e+06</td>\n",
              "      <td>6.362620e+06</td>\n",
              "      <td>6.362620e+06</td>\n",
              "      <td>6.362620e+06</td>\n",
              "      <td>6.362620e+06</td>\n",
              "      <td>6.362620e+06</td>\n",
              "      <td>6.362620e+06</td>\n",
              "    </tr>\n",
              "    <tr>\n",
              "      <th>mean</th>\n",
              "      <td>2.433972e+02</td>\n",
              "      <td>1.798619e+05</td>\n",
              "      <td>8.338831e+05</td>\n",
              "      <td>8.551137e+05</td>\n",
              "      <td>1.100702e+06</td>\n",
              "      <td>1.224996e+06</td>\n",
              "      <td>1.290820e-03</td>\n",
              "      <td>2.514687e-06</td>\n",
              "    </tr>\n",
              "    <tr>\n",
              "      <th>std</th>\n",
              "      <td>1.423320e+02</td>\n",
              "      <td>6.038582e+05</td>\n",
              "      <td>2.888243e+06</td>\n",
              "      <td>2.924049e+06</td>\n",
              "      <td>3.399180e+06</td>\n",
              "      <td>3.674129e+06</td>\n",
              "      <td>3.590480e-02</td>\n",
              "      <td>1.585775e-03</td>\n",
              "    </tr>\n",
              "    <tr>\n",
              "      <th>min</th>\n",
              "      <td>1.000000e+00</td>\n",
              "      <td>0.000000e+00</td>\n",
              "      <td>0.000000e+00</td>\n",
              "      <td>0.000000e+00</td>\n",
              "      <td>0.000000e+00</td>\n",
              "      <td>0.000000e+00</td>\n",
              "      <td>0.000000e+00</td>\n",
              "      <td>0.000000e+00</td>\n",
              "    </tr>\n",
              "    <tr>\n",
              "      <th>25%</th>\n",
              "      <td>1.560000e+02</td>\n",
              "      <td>1.338957e+04</td>\n",
              "      <td>0.000000e+00</td>\n",
              "      <td>0.000000e+00</td>\n",
              "      <td>0.000000e+00</td>\n",
              "      <td>0.000000e+00</td>\n",
              "      <td>0.000000e+00</td>\n",
              "      <td>0.000000e+00</td>\n",
              "    </tr>\n",
              "    <tr>\n",
              "      <th>50%</th>\n",
              "      <td>2.390000e+02</td>\n",
              "      <td>7.487194e+04</td>\n",
              "      <td>1.420800e+04</td>\n",
              "      <td>0.000000e+00</td>\n",
              "      <td>1.327057e+05</td>\n",
              "      <td>2.146614e+05</td>\n",
              "      <td>0.000000e+00</td>\n",
              "      <td>0.000000e+00</td>\n",
              "    </tr>\n",
              "    <tr>\n",
              "      <th>75%</th>\n",
              "      <td>3.350000e+02</td>\n",
              "      <td>2.087215e+05</td>\n",
              "      <td>1.073152e+05</td>\n",
              "      <td>1.442584e+05</td>\n",
              "      <td>9.430367e+05</td>\n",
              "      <td>1.111909e+06</td>\n",
              "      <td>0.000000e+00</td>\n",
              "      <td>0.000000e+00</td>\n",
              "    </tr>\n",
              "    <tr>\n",
              "      <th>max</th>\n",
              "      <td>7.430000e+02</td>\n",
              "      <td>9.244552e+07</td>\n",
              "      <td>5.958504e+07</td>\n",
              "      <td>4.958504e+07</td>\n",
              "      <td>3.560159e+08</td>\n",
              "      <td>3.561793e+08</td>\n",
              "      <td>1.000000e+00</td>\n",
              "      <td>1.000000e+00</td>\n",
              "    </tr>\n",
              "  </tbody>\n",
              "</table>\n",
              "</div>\n",
              "      <button class=\"colab-df-convert\" onclick=\"convertToInteractive('df-554312d3-32e0-4891-b6d7-4a4af5f805a6')\"\n",
              "              title=\"Convert this dataframe to an interactive table.\"\n",
              "              style=\"display:none;\">\n",
              "        \n",
              "  <svg xmlns=\"http://www.w3.org/2000/svg\" height=\"24px\"viewBox=\"0 0 24 24\"\n",
              "       width=\"24px\">\n",
              "    <path d=\"M0 0h24v24H0V0z\" fill=\"none\"/>\n",
              "    <path d=\"M18.56 5.44l.94 2.06.94-2.06 2.06-.94-2.06-.94-.94-2.06-.94 2.06-2.06.94zm-11 1L8.5 8.5l.94-2.06 2.06-.94-2.06-.94L8.5 2.5l-.94 2.06-2.06.94zm10 10l.94 2.06.94-2.06 2.06-.94-2.06-.94-.94-2.06-.94 2.06-2.06.94z\"/><path d=\"M17.41 7.96l-1.37-1.37c-.4-.4-.92-.59-1.43-.59-.52 0-1.04.2-1.43.59L10.3 9.45l-7.72 7.72c-.78.78-.78 2.05 0 2.83L4 21.41c.39.39.9.59 1.41.59.51 0 1.02-.2 1.41-.59l7.78-7.78 2.81-2.81c.8-.78.8-2.07 0-2.86zM5.41 20L4 18.59l7.72-7.72 1.47 1.35L5.41 20z\"/>\n",
              "  </svg>\n",
              "      </button>\n",
              "      \n",
              "  <style>\n",
              "    .colab-df-container {\n",
              "      display:flex;\n",
              "      flex-wrap:wrap;\n",
              "      gap: 12px;\n",
              "    }\n",
              "\n",
              "    .colab-df-convert {\n",
              "      background-color: #E8F0FE;\n",
              "      border: none;\n",
              "      border-radius: 50%;\n",
              "      cursor: pointer;\n",
              "      display: none;\n",
              "      fill: #1967D2;\n",
              "      height: 32px;\n",
              "      padding: 0 0 0 0;\n",
              "      width: 32px;\n",
              "    }\n",
              "\n",
              "    .colab-df-convert:hover {\n",
              "      background-color: #E2EBFA;\n",
              "      box-shadow: 0px 1px 2px rgba(60, 64, 67, 0.3), 0px 1px 3px 1px rgba(60, 64, 67, 0.15);\n",
              "      fill: #174EA6;\n",
              "    }\n",
              "\n",
              "    [theme=dark] .colab-df-convert {\n",
              "      background-color: #3B4455;\n",
              "      fill: #D2E3FC;\n",
              "    }\n",
              "\n",
              "    [theme=dark] .colab-df-convert:hover {\n",
              "      background-color: #434B5C;\n",
              "      box-shadow: 0px 1px 3px 1px rgba(0, 0, 0, 0.15);\n",
              "      filter: drop-shadow(0px 1px 2px rgba(0, 0, 0, 0.3));\n",
              "      fill: #FFFFFF;\n",
              "    }\n",
              "  </style>\n",
              "\n",
              "      <script>\n",
              "        const buttonEl =\n",
              "          document.querySelector('#df-554312d3-32e0-4891-b6d7-4a4af5f805a6 button.colab-df-convert');\n",
              "        buttonEl.style.display =\n",
              "          google.colab.kernel.accessAllowed ? 'block' : 'none';\n",
              "\n",
              "        async function convertToInteractive(key) {\n",
              "          const element = document.querySelector('#df-554312d3-32e0-4891-b6d7-4a4af5f805a6');\n",
              "          const dataTable =\n",
              "            await google.colab.kernel.invokeFunction('convertToInteractive',\n",
              "                                                     [key], {});\n",
              "          if (!dataTable) return;\n",
              "\n",
              "          const docLinkHtml = 'Like what you see? Visit the ' +\n",
              "            '<a target=\"_blank\" href=https://colab.research.google.com/notebooks/data_table.ipynb>data table notebook</a>'\n",
              "            + ' to learn more about interactive tables.';\n",
              "          element.innerHTML = '';\n",
              "          dataTable['output_type'] = 'display_data';\n",
              "          await google.colab.output.renderOutput(dataTable, element);\n",
              "          const docLink = document.createElement('div');\n",
              "          docLink.innerHTML = docLinkHtml;\n",
              "          element.appendChild(docLink);\n",
              "        }\n",
              "      </script>\n",
              "    </div>\n",
              "  </div>\n",
              "  "
            ]
          },
          "metadata": {},
          "execution_count": 102
        }
      ]
    },
    {
      "cell_type": "markdown",
      "source": [
        "### Data Cleaning"
      ],
      "metadata": {
        "id": "Gmo4Sg9X1Fx-"
      }
    },
    {
      "cell_type": "code",
      "source": [
        "# Handling missing values\n",
        "df.isnull().sum()"
      ],
      "metadata": {
        "colab": {
          "base_uri": "https://localhost:8080/"
        },
        "id": "G1oiotL21Eyi",
        "outputId": "043242f3-0fc8-4314-9443-400cec699b9f"
      },
      "execution_count": 103,
      "outputs": [
        {
          "output_type": "execute_result",
          "data": {
            "text/plain": [
              "step              0\n",
              "type              0\n",
              "amount            0\n",
              "nameOrig          0\n",
              "oldbalanceOrg     0\n",
              "newbalanceOrig    0\n",
              "nameDest          0\n",
              "oldbalanceDest    0\n",
              "newbalanceDest    0\n",
              "isFraud           0\n",
              "isFlaggedFraud    0\n",
              "dtype: int64"
            ]
          },
          "metadata": {},
          "execution_count": 103
        }
      ]
    },
    {
      "cell_type": "markdown",
      "source": [
        "No missing values found."
      ],
      "metadata": {
        "id": "EIf28yZZ1f24"
      }
    },
    {
      "cell_type": "code",
      "source": [
        "# Renaming column names for convenience\n",
        "df.columns = ['Transaction_Hours','Type','Transaction_Amt','Sender','Sender_Bal_b4','Sender_Bal_After','Receiver','Receiver_Bal_b4','Receiver_Bal_After','isFraud','isFlaggedFraud']\n"
      ],
      "metadata": {
        "id": "bW8R9aeNoaBb"
      },
      "execution_count": 104,
      "outputs": []
    },
    {
      "cell_type": "code",
      "source": [
        "# Features with numerical value\n",
        "features = ['Transaction_Amt','Sender_Bal_b4', 'Transaction_Hours','Sender_Bal_After','Receiver_Bal_b4','Receiver_Bal_After']"
      ],
      "metadata": {
        "id": "FWqkS3kiRHiL"
      },
      "execution_count": 105,
      "outputs": []
    },
    {
      "cell_type": "code",
      "source": [
        "# Plotting all numerical features for distrubution check\n",
        "plt.figure(figsize=(20,8))\n",
        "warnings.filterwarnings('ignore')\n",
        "\n",
        "for feature in features:\n",
        "  plt.subplot(2,3,features.index(feature)+1)\n",
        "  sns.distplot(df[feature])\n",
        "plt.show()\n"
      ],
      "metadata": {
        "colab": {
          "base_uri": "https://localhost:8080/",
          "height": 354
        },
        "id": "r4kkFZiCT5CD",
        "outputId": "d81de7e2-f51e-4cd7-9c63-5f8648da2559"
      },
      "execution_count": 106,
      "outputs": [
        {
          "output_type": "display_data",
          "data": {
            "text/plain": [
              "<Figure size 1440x576 with 6 Axes>"
            ],
            "image/png": "[encoded data removed]"
          },
          "metadata": {
            "needs_background": "light"
          }
        }
      ]
    },
    {
      "cell_type": "markdown",
      "source": [
        "*   All features except 'Transaction_Hours' have right skewed distribution\n",
        "*   Skewed data - When a distribution is skewed it means data is asymmetrucally distributed and indicates the presence of outliers\n",
        "*   The direction of skewness shows the directon of the outliers either in postive or negative end.\n",
        "*   It can be rectified by removing outliers, normalizing or transforming the data using log, boxcox or polynomial transformation\n",
        "\n",
        "\n",
        "\n",
        "\n",
        "\n",
        "\n",
        "\n",
        "\n",
        "\n",
        "---\n",
        "\n"
      ],
      "metadata": {
        "id": "ZzUSLZskA-uT"
      }
    },
    {
      "cell_type": "code",
      "source": [
        "# Plotting boxplot to find the outliers\n",
        "plt.figure(figsize=(20,8))\n",
        "warnings.filterwarnings('ignore')\n",
        "\n",
        "for feature in features:\n",
        "  plt.subplot(2,3,features.index(feature)+1)\n",
        "  sns.boxplot(df[feature])\n",
        "plt.show()"
      ],
      "metadata": {
        "colab": {
          "base_uri": "https://localhost:8080/",
          "height": 361
        },
        "id": "_Ncvf3WNA9Lq",
        "outputId": "6075972a-beb4-43a5-e635-559ede48ab50"
      },
      "execution_count": 107,
      "outputs": [
        {
          "output_type": "display_data",
          "data": {
            "text/plain": [
              "<Figure size 1440x576 with 6 Axes>"
            ],
            "image/png": "[encoded data removed]"
          },
          "metadata": {
            "needs_background": "light"
          }
        }
      ]
    },
    {
      "cell_type": "markdown",
      "source": [
        "Boxplot shows the 0th, 25th, 75th, 100th percentile of the distributed data and the presence of outlier. In our dataset all features has outliers which has to be removed using Inter-Quartile Range (IQR) proximity rule or Percentile-based approach in calculating upper and lower limit of the distribution. Values beyond these limits are considered as Outliers."
      ],
      "metadata": {
        "id": "W2sQaEq6Dgx-"
      }
    },
    {
      "cell_type": "markdown",
      "source": [
        "##### **Handling Outliers**"
      ],
      "metadata": {
        "id": "zTCxRF8X75w0"
      }
    },
    {
      "cell_type": "code",
      "source": [
        "# Removing outliers using Inter-Quartile Range (IQR) proximity rule  \n",
        "\n",
        "for feature in features:\n",
        "  percentile25 = df[feature].quantile(0.25)\n",
        "  percentile75 = df[feature].quantile(0.75)\n",
        "  iqr = percentile75 - percentile25\n",
        "  upper_limit = percentile75 + 1.5 * iqr\n",
        "  lower_limit = percentile25 - 1.5 * iqr\n",
        "  outliers = df[(df[feature] > upper_limit) | (df[feature] < lower_limit)].shape\n",
        "  df = df[(df[feature] < upper_limit) & (df[feature] > lower_limit)]\n",
        "  print(f'\\nRemoving outliers from {feature} \\n   Outliers : {outliers}\\n   Remaining samples :', df.shape)\n"
      ],
      "metadata": {
        "colab": {
          "base_uri": "https://localhost:8080/"
        },
        "id": "tjUU8g6oeP-w",
        "outputId": "97047d99-5f2d-45b9-ae99-b14606f25f5f"
      },
      "execution_count": 108,
      "outputs": [
        {
          "output_type": "stream",
          "name": "stdout",
          "text": [
            "\n",
            "Removing outliers from Transaction_Amt \n",
            "   Outliers : (338078, 11)\n",
            "   Remaining samples : (6024542, 11)\n",
            "\n",
            "Removing outliers from Sender_Bal_b4 \n",
            "   Outliers : (1061163, 11)\n",
            "   Remaining samples : (4963379, 11)\n",
            "\n",
            "Removing outliers from Transaction_Hours \n",
            "   Outliers : (80311, 11)\n",
            "   Remaining samples : (4883068, 11)\n",
            "\n",
            "Removing outliers from Sender_Bal_After \n",
            "   Outliers : (910194, 11)\n",
            "   Remaining samples : (3972874, 11)\n",
            "\n",
            "Removing outliers from Receiver_Bal_b4 \n",
            "   Outliers : (525926, 11)\n",
            "   Remaining samples : (3446948, 11)\n",
            "\n",
            "Removing outliers from Receiver_Bal_After \n",
            "   Outliers : (247545, 11)\n",
            "   Remaining samples : (3199403, 11)\n"
          ]
        }
      ]
    },
    {
      "cell_type": "markdown",
      "source": [
        "After removing outliers the samples reduced from 6362620 to 3199403. Nearly 50% outlier samples are removed using IQR rule."
      ],
      "metadata": {
        "id": "EbqajOwZFcTw"
      }
    },
    {
      "cell_type": "code",
      "source": [
        "# Correlation between features and target \n",
        "df.corr()"
      ],
      "metadata": {
        "colab": {
          "base_uri": "https://localhost:8080/",
          "height": 364
        },
        "id": "aCYeXxmP8Stp",
        "outputId": "cc7fb4ba-1faf-40f4-f346-5d8bd60fcae3"
      },
      "execution_count": 109,
      "outputs": [
        {
          "output_type": "execute_result",
          "data": {
            "text/plain": [
              "                    Transaction_Hours  Transaction_Amt  Sender_Bal_b4  \\\n",
              "Transaction_Hours            1.000000        -0.016607      -0.000292   \n",
              "Transaction_Amt             -0.016607         1.000000       0.222107   \n",
              "Sender_Bal_b4               -0.000292         0.222107       1.000000   \n",
              "Sender_Bal_After            -0.000669        -0.242888       0.401685   \n",
              "Receiver_Bal_b4             -0.011022         0.391901      -0.027144   \n",
              "Receiver_Bal_After          -0.019198         0.652027       0.052903   \n",
              "isFraud                      0.010484         0.006590       0.080537   \n",
              "isFlaggedFraud                    NaN              NaN            NaN   \n",
              "\n",
              "                    Sender_Bal_After  Receiver_Bal_b4  Receiver_Bal_After  \\\n",
              "Transaction_Hours          -0.000669        -0.011022           -0.019198   \n",
              "Transaction_Amt            -0.242888         0.391901            0.652027   \n",
              "Sender_Bal_b4               0.401685        -0.027144            0.052903   \n",
              "Sender_Bal_After            1.000000        -0.142855           -0.199941   \n",
              "Receiver_Bal_b4            -0.142855         1.000000            0.938201   \n",
              "Receiver_Bal_After         -0.199941         0.938201            1.000000   \n",
              "isFraud                    -0.011241        -0.006116           -0.007143   \n",
              "isFlaggedFraud                   NaN              NaN                 NaN   \n",
              "\n",
              "                     isFraud  isFlaggedFraud  \n",
              "Transaction_Hours   0.010484             NaN  \n",
              "Transaction_Amt     0.006590             NaN  \n",
              "Sender_Bal_b4       0.080537             NaN  \n",
              "Sender_Bal_After   -0.011241             NaN  \n",
              "Receiver_Bal_b4    -0.006116             NaN  \n",
              "Receiver_Bal_After -0.007143             NaN  \n",
              "isFraud             1.000000             NaN  \n",
              "isFlaggedFraud           NaN             NaN  "
            ],
            "text/html": [
              "\n",
              "  <div id=\"df-d15acb07-2d90-4b6f-bbcc-0eb10d3eb931\">\n",
              "    <div class=\"colab-df-container\">\n",
              "      <div>\n",
              "<style scoped>\n",
              "    .dataframe tbody tr th:only-of-type {\n",
              "        vertical-align: middle;\n",
              "    }\n",
              "\n",
              "    .dataframe tbody tr th {\n",
              "        vertical-align: top;\n",
              "    }\n",
              "\n",
              "    .dataframe thead th {\n",
              "        text-align: right;\n",
              "    }\n",
              "</style>\n",
              "<table border=\"1\" class=\"dataframe\">\n",
              "  <thead>\n",
              "    <tr style=\"text-align: right;\">\n",
              "      <th></th>\n",
              "      <th>Transaction_Hours</th>\n",
              "      <th>Transaction_Amt</th>\n",
              "      <th>Sender_Bal_b4</th>\n",
              "      <th>Sender_Bal_After</th>\n",
              "      <th>Receiver_Bal_b4</th>\n",
              "      <th>Receiver_Bal_After</th>\n",
              "      <th>isFraud</th>\n",
              "      <th>isFlaggedFraud</th>\n",
              "    </tr>\n",
              "  </thead>\n",
              "  <tbody>\n",
              "    <tr>\n",
              "      <th>Transaction_Hours</th>\n",
              "      <td>1.000000</td>\n",
              "      <td>-0.016607</td>\n",
              "      <td>-0.000292</td>\n",
              "      <td>-0.000669</td>\n",
              "      <td>-0.011022</td>\n",
              "      <td>-0.019198</td>\n",
              "      <td>0.010484</td>\n",
              "      <td>NaN</td>\n",
              "    </tr>\n",
              "    <tr>\n",
              "      <th>Transaction_Amt</th>\n",
              "      <td>-0.016607</td>\n",
              "      <td>1.000000</td>\n",
              "      <td>0.222107</td>\n",
              "      <td>-0.242888</td>\n",
              "      <td>0.391901</td>\n",
              "      <td>0.652027</td>\n",
              "      <td>0.006590</td>\n",
              "      <td>NaN</td>\n",
              "    </tr>\n",
              "    <tr>\n",
              "      <th>Sender_Bal_b4</th>\n",
              "      <td>-0.000292</td>\n",
              "      <td>0.222107</td>\n",
              "      <td>1.000000</td>\n",
              "      <td>0.401685</td>\n",
              "      <td>-0.027144</td>\n",
              "      <td>0.052903</td>\n",
              "      <td>0.080537</td>\n",
              "      <td>NaN</td>\n",
              "    </tr>\n",
              "    <tr>\n",
              "      <th>Sender_Bal_After</th>\n",
              "      <td>-0.000669</td>\n",
              "      <td>-0.242888</td>\n",
              "      <td>0.401685</td>\n",
              "      <td>1.000000</td>\n",
              "      <td>-0.142855</td>\n",
              "      <td>-0.199941</td>\n",
              "      <td>-0.011241</td>\n",
              "      <td>NaN</td>\n",
              "    </tr>\n",
              "    <tr>\n",
              "      <th>Receiver_Bal_b4</th>\n",
              "      <td>-0.011022</td>\n",
              "      <td>0.391901</td>\n",
              "      <td>-0.027144</td>\n",
              "      <td>-0.142855</td>\n",
              "      <td>1.000000</td>\n",
              "      <td>0.938201</td>\n",
              "      <td>-0.006116</td>\n",
              "      <td>NaN</td>\n",
              "    </tr>\n",
              "    <tr>\n",
              "      <th>Receiver_Bal_After</th>\n",
              "      <td>-0.019198</td>\n",
              "      <td>0.652027</td>\n",
              "      <td>0.052903</td>\n",
              "      <td>-0.199941</td>\n",
              "      <td>0.938201</td>\n",
              "      <td>1.000000</td>\n",
              "      <td>-0.007143</td>\n",
              "      <td>NaN</td>\n",
              "    </tr>\n",
              "    <tr>\n",
              "      <th>isFraud</th>\n",
              "      <td>0.010484</td>\n",
              "      <td>0.006590</td>\n",
              "      <td>0.080537</td>\n",
              "      <td>-0.011241</td>\n",
              "      <td>-0.006116</td>\n",
              "      <td>-0.007143</td>\n",
              "      <td>1.000000</td>\n",
              "      <td>NaN</td>\n",
              "    </tr>\n",
              "    <tr>\n",
              "      <th>isFlaggedFraud</th>\n",
              "      <td>NaN</td>\n",
              "      <td>NaN</td>\n",
              "      <td>NaN</td>\n",
              "      <td>NaN</td>\n",
              "      <td>NaN</td>\n",
              "      <td>NaN</td>\n",
              "      <td>NaN</td>\n",
              "      <td>NaN</td>\n",
              "    </tr>\n",
              "  </tbody>\n",
              "</table>\n",
              "</div>\n",
              "      <button class=\"colab-df-convert\" onclick=\"convertToInteractive('df-d15acb07-2d90-4b6f-bbcc-0eb10d3eb931')\"\n",
              "              title=\"Convert this dataframe to an interactive table.\"\n",
              "              style=\"display:none;\">\n",
              "        \n",
              "  <svg xmlns=\"http://www.w3.org/2000/svg\" height=\"24px\"viewBox=\"0 0 24 24\"\n",
              "       width=\"24px\">\n",
              "    <path d=\"M0 0h24v24H0V0z\" fill=\"none\"/>\n",
              "    <path d=\"M18.56 5.44l.94 2.06.94-2.06 2.06-.94-2.06-.94-.94-2.06-.94 2.06-2.06.94zm-11 1L8.5 8.5l.94-2.06 2.06-.94-2.06-.94L8.5 2.5l-.94 2.06-2.06.94zm10 10l.94 2.06.94-2.06 2.06-.94-2.06-.94-.94-2.06-.94 2.06-2.06.94z\"/><path d=\"M17.41 7.96l-1.37-1.37c-.4-.4-.92-.59-1.43-.59-.52 0-1.04.2-1.43.59L10.3 9.45l-7.72 7.72c-.78.78-.78 2.05 0 2.83L4 21.41c.39.39.9.59 1.41.59.51 0 1.02-.2 1.41-.59l7.78-7.78 2.81-2.81c.8-.78.8-2.07 0-2.86zM5.41 20L4 18.59l7.72-7.72 1.47 1.35L5.41 20z\"/>\n",
              "  </svg>\n",
              "      </button>\n",
              "      \n",
              "  <style>\n",
              "    .colab-df-container {\n",
              "      display:flex;\n",
              "      flex-wrap:wrap;\n",
              "      gap: 12px;\n",
              "    }\n",
              "\n",
              "    .colab-df-convert {\n",
              "      background-color: #E8F0FE;\n",
              "      border: none;\n",
              "      border-radius: 50%;\n",
              "      cursor: pointer;\n",
              "      display: none;\n",
              "      fill: #1967D2;\n",
              "      height: 32px;\n",
              "      padding: 0 0 0 0;\n",
              "      width: 32px;\n",
              "    }\n",
              "\n",
              "    .colab-df-convert:hover {\n",
              "      background-color: #E2EBFA;\n",
              "      box-shadow: 0px 1px 2px rgba(60, 64, 67, 0.3), 0px 1px 3px 1px rgba(60, 64, 67, 0.15);\n",
              "      fill: #174EA6;\n",
              "    }\n",
              "\n",
              "    [theme=dark] .colab-df-convert {\n",
              "      background-color: #3B4455;\n",
              "      fill: #D2E3FC;\n",
              "    }\n",
              "\n",
              "    [theme=dark] .colab-df-convert:hover {\n",
              "      background-color: #434B5C;\n",
              "      box-shadow: 0px 1px 3px 1px rgba(0, 0, 0, 0.15);\n",
              "      filter: drop-shadow(0px 1px 2px rgba(0, 0, 0, 0.3));\n",
              "      fill: #FFFFFF;\n",
              "    }\n",
              "  </style>\n",
              "\n",
              "      <script>\n",
              "        const buttonEl =\n",
              "          document.querySelector('#df-d15acb07-2d90-4b6f-bbcc-0eb10d3eb931 button.colab-df-convert');\n",
              "        buttonEl.style.display =\n",
              "          google.colab.kernel.accessAllowed ? 'block' : 'none';\n",
              "\n",
              "        async function convertToInteractive(key) {\n",
              "          const element = document.querySelector('#df-d15acb07-2d90-4b6f-bbcc-0eb10d3eb931');\n",
              "          const dataTable =\n",
              "            await google.colab.kernel.invokeFunction('convertToInteractive',\n",
              "                                                     [key], {});\n",
              "          if (!dataTable) return;\n",
              "\n",
              "          const docLinkHtml = 'Like what you see? Visit the ' +\n",
              "            '<a target=\"_blank\" href=https://colab.research.google.com/notebooks/data_table.ipynb>data table notebook</a>'\n",
              "            + ' to learn more about interactive tables.';\n",
              "          element.innerHTML = '';\n",
              "          dataTable['output_type'] = 'display_data';\n",
              "          await google.colab.output.renderOutput(dataTable, element);\n",
              "          const docLink = document.createElement('div');\n",
              "          docLink.innerHTML = docLinkHtml;\n",
              "          element.appendChild(docLink);\n",
              "        }\n",
              "      </script>\n",
              "    </div>\n",
              "  </div>\n",
              "  "
            ]
          },
          "metadata": {},
          "execution_count": 109
        }
      ]
    },
    {
      "cell_type": "code",
      "source": [
        "# Plotting after removing outliers\n",
        "\n",
        "plt.figure(figsize=(20,8))\n",
        "warnings.filterwarnings('ignore')\n",
        "for feature in features:\n",
        "  plt.subplot(2,3,features.index(feature)+1)\n",
        "  sns.distplot(df[feature])\n",
        "plt.show()\n",
        "\n",
        "plt.figure(figsize=(20,8))\n",
        "warnings.filterwarnings('ignore')\n",
        "for feature in features:\n",
        "  plt.subplot(2,3,features.index(feature)+1)\n",
        "  sns.boxplot(df[feature])\n",
        "plt.show()"
      ],
      "metadata": {
        "colab": {
          "base_uri": "https://localhost:8080/",
          "height": 697
        },
        "id": "dQHs3vHMaFb6",
        "outputId": "58fb3e86-5fc3-4c82-cad6-0c3ac87051e5"
      },
      "execution_count": 110,
      "outputs": [
        {
          "output_type": "display_data",
          "data": {
            "text/plain": [
              "<Figure size 1440x576 with 6 Axes>"
            ],
            "image/png": "[encoded data removed]"
          },
          "metadata": {
            "needs_background": "light"
          }
        },
        {
          "output_type": "display_data",
          "data": {
            "text/plain": [
              "<Figure size 1440x576 with 6 Axes>"
            ],
            "image/png": "[encoded data removed]"
          },
          "metadata": {
            "needs_background": "light"
          }
        }
      ]
    },
    {
      "cell_type": "markdown",
      "source": [
        "### **Exploratory Data Analysis**"
      ],
      "metadata": {
        "id": "sgcmFJ7q4bBX"
      }
    },
    {
      "cell_type": "code",
      "source": [
        "df.head()"
      ],
      "metadata": {
        "colab": {
          "base_uri": "https://localhost:8080/",
          "height": 270
        },
        "id": "YlupwLowPqvh",
        "outputId": "31a52458-0d56-4a7b-c849-c69c778b8f26"
      },
      "execution_count": 111,
      "outputs": [
        {
          "output_type": "execute_result",
          "data": {
            "text/plain": [
              "   Transaction_Hours      Type  Transaction_Amt       Sender  Sender_Bal_b4  \\\n",
              "1                  1   PAYMENT          1864.28  C1666544295        21249.0   \n",
              "2                  1  TRANSFER           181.00  C1305486145          181.0   \n",
              "3                  1  CASH_OUT           181.00   C840083671          181.0   \n",
              "4                  1   PAYMENT         11668.14  C2048537720        41554.0   \n",
              "5                  1   PAYMENT          7817.71    C90045638        53860.0   \n",
              "\n",
              "   Sender_Bal_After     Receiver  Receiver_Bal_b4  Receiver_Bal_After  \\\n",
              "1          19384.72  M2044282225              0.0                 0.0   \n",
              "2              0.00   C553264065              0.0                 0.0   \n",
              "3              0.00    C38997010          21182.0                 0.0   \n",
              "4          29885.86  M1230701703              0.0                 0.0   \n",
              "5          46042.29   M573487274              0.0                 0.0   \n",
              "\n",
              "   isFraud  isFlaggedFraud  \n",
              "1        0               0  \n",
              "2        1               0  \n",
              "3        1               0  \n",
              "4        0               0  \n",
              "5        0               0  "
            ],
            "text/html": [
              "\n",
              "  <div id=\"df-a3eac02c-5d1b-4414-b8af-82e3673df724\">\n",
              "    <div class=\"colab-df-container\">\n",
              "      <div>\n",
              "<style scoped>\n",
              "    .dataframe tbody tr th:only-of-type {\n",
              "        vertical-align: middle;\n",
              "    }\n",
              "\n",
              "    .dataframe tbody tr th {\n",
              "        vertical-align: top;\n",
              "    }\n",
              "\n",
              "    .dataframe thead th {\n",
              "        text-align: right;\n",
              "    }\n",
              "</style>\n",
              "<table border=\"1\" class=\"dataframe\">\n",
              "  <thead>\n",
              "    <tr style=\"text-align: right;\">\n",
              "      <th></th>\n",
              "      <th>Transaction_Hours</th>\n",
              "      <th>Type</th>\n",
              "      <th>Transaction_Amt</th>\n",
              "      <th>Sender</th>\n",
              "      <th>Sender_Bal_b4</th>\n",
              "      <th>Sender_Bal_After</th>\n",
              "      <th>Receiver</th>\n",
              "      <th>Receiver_Bal_b4</th>\n",
              "      <th>Receiver_Bal_After</th>\n",
              "      <th>isFraud</th>\n",
              "      <th>isFlaggedFraud</th>\n",
              "    </tr>\n",
              "  </thead>\n",
              "  <tbody>\n",
              "    <tr>\n",
              "      <th>1</th>\n",
              "      <td>1</td>\n",
              "      <td>PAYMENT</td>\n",
              "      <td>1864.28</td>\n",
              "      <td>C1666544295</td>\n",
              "      <td>21249.0</td>\n",
              "      <td>19384.72</td>\n",
              "      <td>M2044282225</td>\n",
              "      <td>0.0</td>\n",
              "      <td>0.0</td>\n",
              "      <td>0</td>\n",
              "      <td>0</td>\n",
              "    </tr>\n",
              "    <tr>\n",
              "      <th>2</th>\n",
              "      <td>1</td>\n",
              "      <td>TRANSFER</td>\n",
              "      <td>181.00</td>\n",
              "      <td>C1305486145</td>\n",
              "      <td>181.0</td>\n",
              "      <td>0.00</td>\n",
              "      <td>C553264065</td>\n",
              "      <td>0.0</td>\n",
              "      <td>0.0</td>\n",
              "      <td>1</td>\n",
              "      <td>0</td>\n",
              "    </tr>\n",
              "    <tr>\n",
              "      <th>3</th>\n",
              "      <td>1</td>\n",
              "      <td>CASH_OUT</td>\n",
              "      <td>181.00</td>\n",
              "      <td>C840083671</td>\n",
              "      <td>181.0</td>\n",
              "      <td>0.00</td>\n",
              "      <td>C38997010</td>\n",
              "      <td>21182.0</td>\n",
              "      <td>0.0</td>\n",
              "      <td>1</td>\n",
              "      <td>0</td>\n",
              "    </tr>\n",
              "    <tr>\n",
              "      <th>4</th>\n",
              "      <td>1</td>\n",
              "      <td>PAYMENT</td>\n",
              "      <td>11668.14</td>\n",
              "      <td>C2048537720</td>\n",
              "      <td>41554.0</td>\n",
              "      <td>29885.86</td>\n",
              "      <td>M1230701703</td>\n",
              "      <td>0.0</td>\n",
              "      <td>0.0</td>\n",
              "      <td>0</td>\n",
              "      <td>0</td>\n",
              "    </tr>\n",
              "    <tr>\n",
              "      <th>5</th>\n",
              "      <td>1</td>\n",
              "      <td>PAYMENT</td>\n",
              "      <td>7817.71</td>\n",
              "      <td>C90045638</td>\n",
              "      <td>53860.0</td>\n",
              "      <td>46042.29</td>\n",
              "      <td>M573487274</td>\n",
              "      <td>0.0</td>\n",
              "      <td>0.0</td>\n",
              "      <td>0</td>\n",
              "      <td>0</td>\n",
              "    </tr>\n",
              "  </tbody>\n",
              "</table>\n",
              "</div>\n",
              "      <button class=\"colab-df-convert\" onclick=\"convertToInteractive('df-a3eac02c-5d1b-4414-b8af-82e3673df724')\"\n",
              "              title=\"Convert this dataframe to an interactive table.\"\n",
              "              style=\"display:none;\">\n",
              "        \n",
              "  <svg xmlns=\"http://www.w3.org/2000/svg\" height=\"24px\"viewBox=\"0 0 24 24\"\n",
              "       width=\"24px\">\n",
              "    <path d=\"M0 0h24v24H0V0z\" fill=\"none\"/>\n",
              "    <path d=\"M18.56 5.44l.94 2.06.94-2.06 2.06-.94-2.06-.94-.94-2.06-.94 2.06-2.06.94zm-11 1L8.5 8.5l.94-2.06 2.06-.94-2.06-.94L8.5 2.5l-.94 2.06-2.06.94zm10 10l.94 2.06.94-2.06 2.06-.94-2.06-.94-.94-2.06-.94 2.06-2.06.94z\"/><path d=\"M17.41 7.96l-1.37-1.37c-.4-.4-.92-.59-1.43-.59-.52 0-1.04.2-1.43.59L10.3 9.45l-7.72 7.72c-.78.78-.78 2.05 0 2.83L4 21.41c.39.39.9.59 1.41.59.51 0 1.02-.2 1.41-.59l7.78-7.78 2.81-2.81c.8-.78.8-2.07 0-2.86zM5.41 20L4 18.59l7.72-7.72 1.47 1.35L5.41 20z\"/>\n",
              "  </svg>\n",
              "      </button>\n",
              "      \n",
              "  <style>\n",
              "    .colab-df-container {\n",
              "      display:flex;\n",
              "      flex-wrap:wrap;\n",
              "      gap: 12px;\n",
              "    }\n",
              "\n",
              "    .colab-df-convert {\n",
              "      background-color: #E8F0FE;\n",
              "      border: none;\n",
              "      border-radius: 50%;\n",
              "      cursor: pointer;\n",
              "      display: none;\n",
              "      fill: #1967D2;\n",
              "      height: 32px;\n",
              "      padding: 0 0 0 0;\n",
              "      width: 32px;\n",
              "    }\n",
              "\n",
              "    .colab-df-convert:hover {\n",
              "      background-color: #E2EBFA;\n",
              "      box-shadow: 0px 1px 2px rgba(60, 64, 67, 0.3), 0px 1px 3px 1px rgba(60, 64, 67, 0.15);\n",
              "      fill: #174EA6;\n",
              "    }\n",
              "\n",
              "    [theme=dark] .colab-df-convert {\n",
              "      background-color: #3B4455;\n",
              "      fill: #D2E3FC;\n",
              "    }\n",
              "\n",
              "    [theme=dark] .colab-df-convert:hover {\n",
              "      background-color: #434B5C;\n",
              "      box-shadow: 0px 1px 3px 1px rgba(0, 0, 0, 0.15);\n",
              "      filter: drop-shadow(0px 1px 2px rgba(0, 0, 0, 0.3));\n",
              "      fill: #FFFFFF;\n",
              "    }\n",
              "  </style>\n",
              "\n",
              "      <script>\n",
              "        const buttonEl =\n",
              "          document.querySelector('#df-a3eac02c-5d1b-4414-b8af-82e3673df724 button.colab-df-convert');\n",
              "        buttonEl.style.display =\n",
              "          google.colab.kernel.accessAllowed ? 'block' : 'none';\n",
              "\n",
              "        async function convertToInteractive(key) {\n",
              "          const element = document.querySelector('#df-a3eac02c-5d1b-4414-b8af-82e3673df724');\n",
              "          const dataTable =\n",
              "            await google.colab.kernel.invokeFunction('convertToInteractive',\n",
              "                                                     [key], {});\n",
              "          if (!dataTable) return;\n",
              "\n",
              "          const docLinkHtml = 'Like what you see? Visit the ' +\n",
              "            '<a target=\"_blank\" href=https://colab.research.google.com/notebooks/data_table.ipynb>data table notebook</a>'\n",
              "            + ' to learn more about interactive tables.';\n",
              "          element.innerHTML = '';\n",
              "          dataTable['output_type'] = 'display_data';\n",
              "          await google.colab.output.renderOutput(dataTable, element);\n",
              "          const docLink = document.createElement('div');\n",
              "          docLink.innerHTML = docLinkHtml;\n",
              "          element.appendChild(docLink);\n",
              "        }\n",
              "      </script>\n",
              "    </div>\n",
              "  </div>\n",
              "  "
            ]
          },
          "metadata": {},
          "execution_count": 111
        }
      ]
    },
    {
      "cell_type": "code",
      "source": [
        "plt.figure(figsize=(20,5))\n",
        "warnings.filterwarnings('ignore')\n",
        "sns.histplot(df, x='Transaction_Amt', hue = 'Type')\n",
        "\n",
        "plt.show()"
      ],
      "metadata": {
        "colab": {
          "base_uri": "https://localhost:8080/",
          "height": 234
        },
        "id": "8WqvoEWQP2UI",
        "outputId": "377cad17-dce9-4a31-bd66-b19c0f5342bc"
      },
      "execution_count": 112,
      "outputs": [
        {
          "output_type": "display_data",
          "data": {
            "text/plain": [
              "<Figure size 1440x360 with 1 Axes>"
            ],
            "image/png": "[encoded data removed]"
          },
          "metadata": {
            "needs_background": "light"
          }
        }
      ]
    },
    {
      "cell_type": "markdown",
      "source": [
        "Most of the transactions are third party payments means money has been used to purchase or pay bills to the merchants like electricity, mobile recharge, onlin e shopping, online food delivery etc. Second most mode of usage is cash_out - withdrawing money from ATMs which is untraceable if there is no CCTV."
      ],
      "metadata": {
        "id": "YxW68o2rgVfg"
      }
    },
    {
      "cell_type": "code",
      "source": [
        "plt.figure(figsize=(18,5))\n",
        "warnings.filterwarnings('ignore')\n",
        "\n",
        "plt.subplot(1,2,1)\n",
        "sns.histplot(df[df.isFraud == 1], x=\"Type\", hue = 'isFraud')\n",
        "\n",
        "plt.subplot(1,2,2)\n",
        "sns.histplot(df, x = 'Transaction_Hours', hue = 'Type')\n",
        "plt.show()"
      ],
      "metadata": {
        "colab": {
          "base_uri": "https://localhost:8080/",
          "height": 261
        },
        "id": "aq5tZTUBYYQw",
        "outputId": "4a1d3404-9835-42a9-f034-405988fa51a1"
      },
      "execution_count": 113,
      "outputs": [
        {
          "output_type": "display_data",
          "data": {
            "text/plain": [
              "<Figure size 1296x360 with 2 Axes>"
            ],
            "image/png": "[encoded data removed]"
          },
          "metadata": {
            "needs_background": "light"
          }
        }
      ]
    },
    {
      "cell_type": "markdown",
      "source": [
        "Most of the fraud transactions are transfer and cashout, means it can be untraceable when executed cleverly. Also the transaction time for cash_mode transactions are longer compared to transfer mode."
      ],
      "metadata": {
        "id": "u1UHh8oHhnfq"
      }
    },
    {
      "cell_type": "code",
      "source": [
        "df2 = df.copy()"
      ],
      "metadata": {
        "id": "nOXVTjKHd6EB"
      },
      "execution_count": 114,
      "outputs": []
    },
    {
      "cell_type": "code",
      "source": [
        "df2['Receiver_Status'] = df2['Receiver'].apply(lambda x : 'Unknown Receiver' if x[0] == 'M' else 'Known Receiver')"
      ],
      "metadata": {
        "id": "3O3GArEz7z6d"
      },
      "execution_count": 115,
      "outputs": []
    },
    {
      "cell_type": "code",
      "source": [
        "plt.figure(figsize=(18,5))\n",
        "warnings.filterwarnings('ignore')\n",
        "\n",
        "plt.subplot(1,2,1)\n",
        "sns.histplot(df2, x=\"Type\", hue = 'Receiver_Status')\n",
        "\n",
        "plt.subplot(1,2,2)\n",
        "sns.histplot(df2, x = 'Transaction_Amt', hue = 'Receiver_Status')\n",
        "\n",
        "plt.show()"
      ],
      "metadata": {
        "colab": {
          "base_uri": "https://localhost:8080/",
          "height": 270
        },
        "id": "QOrjt--DenJY",
        "outputId": "72c8cc01-7dff-4d6d-8bcb-0dcfe092e4f3"
      },
      "execution_count": 116,
      "outputs": [
        {
          "output_type": "display_data",
          "data": {
            "text/plain": [
              "<Figure size 1296x360 with 2 Axes>"
            ],
            "image/png": "[encoded data removed]"
          },
          "metadata": {
            "needs_background": "light"
          }
        }
      ]
    },
    {
      "cell_type": "markdown",
      "source": [
        "Payment mode of transfer are mostly to unknown sender and remaining all transactions are to known sender whose bank details are traceable. \n",
        "\n",
        "Transactions to unknown sender are very high when compared to known which makes it difficult to predict the fraudulent transactions"
      ],
      "metadata": {
        "id": "jgb47-xDiwaR"
      }
    },
    {
      "cell_type": "markdown",
      "source": [
        "### **Feature Engineering**"
      ],
      "metadata": {
        "id": "yWsougRW4Tqv"
      }
    },
    {
      "cell_type": "markdown",
      "source": [
        "Boxcox transformation is used to normalize the skewed distribution"
      ],
      "metadata": {
        "id": "8qLzY2vsHmhx"
      }
    },
    {
      "cell_type": "code",
      "source": [
        "# Boxcox transformation \n",
        "df = df[(df['Transaction_Amt'] > 0)]\n",
        "df = df[(df['Sender_Bal_b4'] > 0)]\n",
        "df.Transaction_Amt = boxcox(df.Transaction_Amt)[0]\n",
        "df.Sender_Bal_b4 = boxcox(df.Sender_Bal_b4)[0]\n",
        "plt.figure(figsize = (8, 8))\n",
        "\n",
        "# Plotting features after transformation\n",
        "plt.subplot(2,1,1)\n",
        "sns.distplot(df['Transaction_Amt'])\n",
        "plt.subplot(2,1,2)\n",
        "sns.distplot(df['Sender_Bal_b4'])\n",
        "plt.show()"
      ],
      "metadata": {
        "colab": {
          "base_uri": "https://localhost:8080/",
          "height": 499
        },
        "id": "61rnCMNwntNq",
        "outputId": "35570915-9931-4b18-a8be-ad2502115dbd"
      },
      "execution_count": 117,
      "outputs": [
        {
          "output_type": "display_data",
          "data": {
            "text/plain": [
              "<Figure size 576x576 with 2 Axes>"
            ],
            "image/png": "[encoded data removed]"
          },
          "metadata": {
            "needs_background": "light"
          }
        }
      ]
    },
    {
      "cell_type": "markdown",
      "source": [
        "Skewness in the distribution removed after transformation"
      ],
      "metadata": {
        "id": "o1WqXwYvIQxB"
      }
    },
    {
      "cell_type": "markdown",
      "source": [
        "##### **Handling Multicollinearity issue**"
      ],
      "metadata": {
        "id": "0_KmKskJ8hA3"
      }
    },
    {
      "cell_type": "markdown",
      "source": [
        "* Multicollinearity exists whenever an independent variable is highly correlated with one or more of the other independent variables\n",
        "* Multicollinearity is a problem because it undermines the statistical significance of an independent variable\n",
        "\n",
        "* Remove highly correlated predictors from the model. If you have two or more factors with a high VIF, remove one from the model\n",
        "\n",
        "* Use Partial Least Squares Regression (PLS) or Principal Components Analysis, regression methods that cut the number of predictors to a smaller set of uncorrelated components\n",
        "\n"
      ],
      "metadata": {
        "id": "cKdose24IuR_"
      }
    },
    {
      "cell_type": "code",
      "source": [
        "df.corr()"
      ],
      "metadata": {
        "colab": {
          "base_uri": "https://localhost:8080/",
          "height": 364
        },
        "id": "h_MSe1TL4GWA",
        "outputId": "e2ab860a-dfc5-4532-8910-352c7326af0e"
      },
      "execution_count": 118,
      "outputs": [
        {
          "output_type": "execute_result",
          "data": {
            "text/plain": [
              "                    Transaction_Hours  Transaction_Amt  Sender_Bal_b4  \\\n",
              "Transaction_Hours            1.000000        -0.001161      -0.005689   \n",
              "Transaction_Amt             -0.001161         1.000000       0.165902   \n",
              "Sender_Bal_b4               -0.005689         0.165902       1.000000   \n",
              "Sender_Bal_After            -0.005657        -0.434338       0.387755   \n",
              "Receiver_Bal_b4             -0.001804         0.319265       0.072997   \n",
              "Receiver_Bal_After          -0.016909         0.608552       0.123488   \n",
              "isFraud                      0.013963         0.015790       0.049417   \n",
              "isFlaggedFraud                    NaN              NaN            NaN   \n",
              "\n",
              "                    Sender_Bal_After  Receiver_Bal_b4  Receiver_Bal_After  \\\n",
              "Transaction_Hours          -0.005657        -0.001804           -0.016909   \n",
              "Transaction_Amt            -0.434338         0.319265            0.608552   \n",
              "Sender_Bal_b4               0.387755         0.072997            0.123488   \n",
              "Sender_Bal_After            1.000000        -0.125340           -0.256466   \n",
              "Receiver_Bal_b4            -0.125340         1.000000            0.899204   \n",
              "Receiver_Bal_After         -0.256466         0.899204            1.000000   \n",
              "isFraud                    -0.021507        -0.002143           -0.006374   \n",
              "isFlaggedFraud                   NaN              NaN                 NaN   \n",
              "\n",
              "                     isFraud  isFlaggedFraud  \n",
              "Transaction_Hours   0.013963             NaN  \n",
              "Transaction_Amt     0.015790             NaN  \n",
              "Sender_Bal_b4       0.049417             NaN  \n",
              "Sender_Bal_After   -0.021507             NaN  \n",
              "Receiver_Bal_b4    -0.002143             NaN  \n",
              "Receiver_Bal_After -0.006374             NaN  \n",
              "isFraud             1.000000             NaN  \n",
              "isFlaggedFraud           NaN             NaN  "
            ],
            "text/html": [
              "\n",
              "  <div id=\"df-b7bc7c54-cf03-43fe-b9fa-56e1a46e883d\">\n",
              "    <div class=\"colab-df-container\">\n",
              "      <div>\n",
              "<style scoped>\n",
              "    .dataframe tbody tr th:only-of-type {\n",
              "        vertical-align: middle;\n",
              "    }\n",
              "\n",
              "    .dataframe tbody tr th {\n",
              "        vertical-align: top;\n",
              "    }\n",
              "\n",
              "    .dataframe thead th {\n",
              "        text-align: right;\n",
              "    }\n",
              "</style>\n",
              "<table border=\"1\" class=\"dataframe\">\n",
              "  <thead>\n",
              "    <tr style=\"text-align: right;\">\n",
              "      <th></th>\n",
              "      <th>Transaction_Hours</th>\n",
              "      <th>Transaction_Amt</th>\n",
              "      <th>Sender_Bal_b4</th>\n",
              "      <th>Sender_Bal_After</th>\n",
              "      <th>Receiver_Bal_b4</th>\n",
              "      <th>Receiver_Bal_After</th>\n",
              "      <th>isFraud</th>\n",
              "      <th>isFlaggedFraud</th>\n",
              "    </tr>\n",
              "  </thead>\n",
              "  <tbody>\n",
              "    <tr>\n",
              "      <th>Transaction_Hours</th>\n",
              "      <td>1.000000</td>\n",
              "      <td>-0.001161</td>\n",
              "      <td>-0.005689</td>\n",
              "      <td>-0.005657</td>\n",
              "      <td>-0.001804</td>\n",
              "      <td>-0.016909</td>\n",
              "      <td>0.013963</td>\n",
              "      <td>NaN</td>\n",
              "    </tr>\n",
              "    <tr>\n",
              "      <th>Transaction_Amt</th>\n",
              "      <td>-0.001161</td>\n",
              "      <td>1.000000</td>\n",
              "      <td>0.165902</td>\n",
              "      <td>-0.434338</td>\n",
              "      <td>0.319265</td>\n",
              "      <td>0.608552</td>\n",
              "      <td>0.015790</td>\n",
              "      <td>NaN</td>\n",
              "    </tr>\n",
              "    <tr>\n",
              "      <th>Sender_Bal_b4</th>\n",
              "      <td>-0.005689</td>\n",
              "      <td>0.165902</td>\n",
              "      <td>1.000000</td>\n",
              "      <td>0.387755</td>\n",
              "      <td>0.072997</td>\n",
              "      <td>0.123488</td>\n",
              "      <td>0.049417</td>\n",
              "      <td>NaN</td>\n",
              "    </tr>\n",
              "    <tr>\n",
              "      <th>Sender_Bal_After</th>\n",
              "      <td>-0.005657</td>\n",
              "      <td>-0.434338</td>\n",
              "      <td>0.387755</td>\n",
              "      <td>1.000000</td>\n",
              "      <td>-0.125340</td>\n",
              "      <td>-0.256466</td>\n",
              "      <td>-0.021507</td>\n",
              "      <td>NaN</td>\n",
              "    </tr>\n",
              "    <tr>\n",
              "      <th>Receiver_Bal_b4</th>\n",
              "      <td>-0.001804</td>\n",
              "      <td>0.319265</td>\n",
              "      <td>0.072997</td>\n",
              "      <td>-0.125340</td>\n",
              "      <td>1.000000</td>\n",
              "      <td>0.899204</td>\n",
              "      <td>-0.002143</td>\n",
              "      <td>NaN</td>\n",
              "    </tr>\n",
              "    <tr>\n",
              "      <th>Receiver_Bal_After</th>\n",
              "      <td>-0.016909</td>\n",
              "      <td>0.608552</td>\n",
              "      <td>0.123488</td>\n",
              "      <td>-0.256466</td>\n",
              "      <td>0.899204</td>\n",
              "      <td>1.000000</td>\n",
              "      <td>-0.006374</td>\n",
              "      <td>NaN</td>\n",
              "    </tr>\n",
              "    <tr>\n",
              "      <th>isFraud</th>\n",
              "      <td>0.013963</td>\n",
              "      <td>0.015790</td>\n",
              "      <td>0.049417</td>\n",
              "      <td>-0.021507</td>\n",
              "      <td>-0.002143</td>\n",
              "      <td>-0.006374</td>\n",
              "      <td>1.000000</td>\n",
              "      <td>NaN</td>\n",
              "    </tr>\n",
              "    <tr>\n",
              "      <th>isFlaggedFraud</th>\n",
              "      <td>NaN</td>\n",
              "      <td>NaN</td>\n",
              "      <td>NaN</td>\n",
              "      <td>NaN</td>\n",
              "      <td>NaN</td>\n",
              "      <td>NaN</td>\n",
              "      <td>NaN</td>\n",
              "      <td>NaN</td>\n",
              "    </tr>\n",
              "  </tbody>\n",
              "</table>\n",
              "</div>\n",
              "      <button class=\"colab-df-convert\" onclick=\"convertToInteractive('df-b7bc7c54-cf03-43fe-b9fa-56e1a46e883d')\"\n",
              "              title=\"Convert this dataframe to an interactive table.\"\n",
              "              style=\"display:none;\">\n",
              "        \n",
              "  <svg xmlns=\"http://www.w3.org/2000/svg\" height=\"24px\"viewBox=\"0 0 24 24\"\n",
              "       width=\"24px\">\n",
              "    <path d=\"M0 0h24v24H0V0z\" fill=\"none\"/>\n",
              "    <path d=\"M18.56 5.44l.94 2.06.94-2.06 2.06-.94-2.06-.94-.94-2.06-.94 2.06-2.06.94zm-11 1L8.5 8.5l.94-2.06 2.06-.94-2.06-.94L8.5 2.5l-.94 2.06-2.06.94zm10 10l.94 2.06.94-2.06 2.06-.94-2.06-.94-.94-2.06-.94 2.06-2.06.94z\"/><path d=\"M17.41 7.96l-1.37-1.37c-.4-.4-.92-.59-1.43-.59-.52 0-1.04.2-1.43.59L10.3 9.45l-7.72 7.72c-.78.78-.78 2.05 0 2.83L4 21.41c.39.39.9.59 1.41.59.51 0 1.02-.2 1.41-.59l7.78-7.78 2.81-2.81c.8-.78.8-2.07 0-2.86zM5.41 20L4 18.59l7.72-7.72 1.47 1.35L5.41 20z\"/>\n",
              "  </svg>\n",
              "      </button>\n",
              "      \n",
              "  <style>\n",
              "    .colab-df-container {\n",
              "      display:flex;\n",
              "      flex-wrap:wrap;\n",
              "      gap: 12px;\n",
              "    }\n",
              "\n",
              "    .colab-df-convert {\n",
              "      background-color: #E8F0FE;\n",
              "      border: none;\n",
              "      border-radius: 50%;\n",
              "      cursor: pointer;\n",
              "      display: none;\n",
              "      fill: #1967D2;\n",
              "      height: 32px;\n",
              "      padding: 0 0 0 0;\n",
              "      width: 32px;\n",
              "    }\n",
              "\n",
              "    .colab-df-convert:hover {\n",
              "      background-color: #E2EBFA;\n",
              "      box-shadow: 0px 1px 2px rgba(60, 64, 67, 0.3), 0px 1px 3px 1px rgba(60, 64, 67, 0.15);\n",
              "      fill: #174EA6;\n",
              "    }\n",
              "\n",
              "    [theme=dark] .colab-df-convert {\n",
              "      background-color: #3B4455;\n",
              "      fill: #D2E3FC;\n",
              "    }\n",
              "\n",
              "    [theme=dark] .colab-df-convert:hover {\n",
              "      background-color: #434B5C;\n",
              "      box-shadow: 0px 1px 3px 1px rgba(0, 0, 0, 0.15);\n",
              "      filter: drop-shadow(0px 1px 2px rgba(0, 0, 0, 0.3));\n",
              "      fill: #FFFFFF;\n",
              "    }\n",
              "  </style>\n",
              "\n",
              "      <script>\n",
              "        const buttonEl =\n",
              "          document.querySelector('#df-b7bc7c54-cf03-43fe-b9fa-56e1a46e883d button.colab-df-convert');\n",
              "        buttonEl.style.display =\n",
              "          google.colab.kernel.accessAllowed ? 'block' : 'none';\n",
              "\n",
              "        async function convertToInteractive(key) {\n",
              "          const element = document.querySelector('#df-b7bc7c54-cf03-43fe-b9fa-56e1a46e883d');\n",
              "          const dataTable =\n",
              "            await google.colab.kernel.invokeFunction('convertToInteractive',\n",
              "                                                     [key], {});\n",
              "          if (!dataTable) return;\n",
              "\n",
              "          const docLinkHtml = 'Like what you see? Visit the ' +\n",
              "            '<a target=\"_blank\" href=https://colab.research.google.com/notebooks/data_table.ipynb>data table notebook</a>'\n",
              "            + ' to learn more about interactive tables.';\n",
              "          element.innerHTML = '';\n",
              "          dataTable['output_type'] = 'display_data';\n",
              "          await google.colab.output.renderOutput(dataTable, element);\n",
              "          const docLink = document.createElement('div');\n",
              "          docLink.innerHTML = docLinkHtml;\n",
              "          element.appendChild(docLink);\n",
              "        }\n",
              "      </script>\n",
              "    </div>\n",
              "  </div>\n",
              "  "
            ]
          },
          "metadata": {},
          "execution_count": 118
        }
      ]
    },
    {
      "cell_type": "markdown",
      "source": [
        "#### **Feature Selection**\n",
        "\n",
        "\n",
        "**Transaction_Hours** - This feature holds the unit of transaction time which is an important feature to predict the fraudulent transaction. Irregular time window can help us to detect the fraud.\n",
        "\n",
        "**Transaction_Amt** - Without amount details it is difficult to track transaction amoung big pile of transactions, amount helps to search and find the transaction entity.\n",
        "\n",
        "**Sender_Bal_b4, Sender_Bal_After, Receiver_Bal_b4, Receicer_Bal_After** - They are all correlated to each other, Having any one feature is sufficient for model building.\n",
        "\n",
        "**isFlaggedFraud** - This feature has extreme imbalanced values which will not help in prediction, Hence we can remove it."
      ],
      "metadata": {
        "id": "yP4gWTGdkuMW"
      }
    },
    {
      "cell_type": "code",
      "source": [
        "# Dropping features to remove multicollinearity issue\n",
        "df.drop(columns = ['Sender_Bal_After', 'Receiver_Bal_b4', 'Sender','Receiver_Bal_After', 'isFlaggedFraud', 'Receiver'], inplace = True)"
      ],
      "metadata": {
        "id": "oqaGbOwuYCjo"
      },
      "execution_count": 119,
      "outputs": []
    },
    {
      "cell_type": "code",
      "source": [
        "# Correlation after removing unecessary features\n",
        "plt.figure(dpi=80)\n",
        "sns.heatmap(np.round(df.corr(),1),annot=True, cmap=\"Blues\")\n",
        "plt.show()"
      ],
      "metadata": {
        "colab": {
          "base_uri": "https://localhost:8080/",
          "height": 388
        },
        "id": "1V25omxjMc2J",
        "outputId": "759c2a7d-6fa3-484b-e89d-682a1148495e"
      },
      "execution_count": 120,
      "outputs": [
        {
          "output_type": "display_data",
          "data": {
            "text/plain": [
              "<Figure size 480x320 with 2 Axes>"
            ],
            "image/png": "[encoded data removed]"
          },
          "metadata": {
            "needs_background": "light"
          }
        }
      ]
    },
    {
      "cell_type": "markdown",
      "source": [
        "As you can see the correlation among features and target are less than 0.2, all high correlated features are removed "
      ],
      "metadata": {
        "id": "uIbhdu9WkIQ7"
      }
    },
    {
      "cell_type": "markdown",
      "source": [
        "##### **Handling categorical data**"
      ],
      "metadata": {
        "id": "LacdRns44qPv"
      }
    },
    {
      "cell_type": "code",
      "source": [
        "# Converting categorical data into numerical form \n",
        "le = LabelEncoder()\n",
        "df['Transaction_Type'] = le.fit_transform(df['Type'])"
      ],
      "metadata": {
        "id": "sezXT9AFf4Ri"
      },
      "execution_count": 121,
      "outputs": []
    },
    {
      "cell_type": "code",
      "source": [
        "df.drop(columns = ['Type'], inplace = True)"
      ],
      "metadata": {
        "id": "dsNo0kids268"
      },
      "execution_count": 122,
      "outputs": []
    },
    {
      "cell_type": "markdown",
      "source": [
        "##### **Resampling Imbalanced dataset**"
      ],
      "metadata": {
        "id": "yLSnZ7xJ5Ot3"
      }
    },
    {
      "cell_type": "markdown",
      "source": [
        "A classification data set with skewed class proportions is called imbalanced. Classes that make up a large proportion of the data set are called majority classes. Those that make up a smaller proportion are minority classes\n",
        "\n",
        "Having a balanced data set for a model would generate higher accuracy models, higher balanced accuracy and balanced detection rate. Hence, its important to have a balanced data set for a classification models\n",
        "\n",
        "To handle the imbalanced data, Sampling techniques are used. There are two types of sampling techniques available: Undersampling and Oversampling. Undersampling selects same quantity of the instances from the majority class thus equally with minority class.\n",
        "\n",
        "Since our dataset is huge we perform undersampling to avoid heavy computation issues. Be aware that undersampling might miss important factors required for predicting the output. So train the model with different subsets to compare any drastic difference in performance."
      ],
      "metadata": {
        "id": "ZBOX3dWnJvGh"
      }
    },
    {
      "cell_type": "code",
      "source": [
        "# sampling ration is 1, means equal share of classes \n",
        "sampler = RandomUnderSampler(sampling_strategy = 1, random_state = 1)"
      ],
      "metadata": {
        "id": "p_ElLLusf4Cu"
      },
      "execution_count": 123,
      "outputs": []
    },
    {
      "cell_type": "code",
      "source": [
        "x = df.drop(columns = ['isFraud'])\n",
        "y = df.isFraud"
      ],
      "metadata": {
        "id": "7L7ktzWcuVYA"
      },
      "execution_count": 124,
      "outputs": []
    },
    {
      "cell_type": "code",
      "source": [
        "# Undersampled input datasets\n",
        "resampled_x, resampled_y = sampler.fit_resample(x, y)"
      ],
      "metadata": {
        "id": "f1HtR7TZHvKH"
      },
      "execution_count": 125,
      "outputs": []
    },
    {
      "cell_type": "code",
      "source": [
        "df.isFraud.value_counts()"
      ],
      "metadata": {
        "colab": {
          "base_uri": "https://localhost:8080/"
        },
        "id": "MSICatJxuluZ",
        "outputId": "4d6f8220-337d-4173-dd35-ee02da1fe18f"
      },
      "execution_count": 126,
      "outputs": [
        {
          "output_type": "execute_result",
          "data": {
            "text/plain": [
              "0    1779993\n",
              "1       2432\n",
              "Name: isFraud, dtype: int64"
            ]
          },
          "metadata": {},
          "execution_count": 126
        }
      ]
    },
    {
      "cell_type": "code",
      "source": [
        "resampled_y.value_counts()"
      ],
      "metadata": {
        "colab": {
          "base_uri": "https://localhost:8080/"
        },
        "id": "p9rGi07L5brQ",
        "outputId": "c824302c-b4d8-48cf-e14a-cd70f0e54d62"
      },
      "execution_count": 127,
      "outputs": [
        {
          "output_type": "execute_result",
          "data": {
            "text/plain": [
              "0    2432\n",
              "1    2432\n",
              "Name: isFraud, dtype: int64"
            ]
          },
          "metadata": {},
          "execution_count": 127
        }
      ]
    },
    {
      "cell_type": "markdown",
      "source": [
        "### **Model Building**"
      ],
      "metadata": {
        "id": "-_GfAEGu5n9n"
      }
    },
    {
      "cell_type": "code",
      "source": [
        "# Spliting dataset in training and test sets\n",
        "xtrain, xtest, ytrain, ytest = train_test_split(resampled_x, resampled_y, random_state = 1, train_size = 0.7)"
      ],
      "metadata": {
        "id": "OX2aIcXAu5ca"
      },
      "execution_count": 128,
      "outputs": []
    },
    {
      "cell_type": "code",
      "source": [
        "ytrain.shape, ytest.shape"
      ],
      "metadata": {
        "colab": {
          "base_uri": "https://localhost:8080/"
        },
        "id": "kXd-_v02voS_",
        "outputId": "4216fa93-2bf3-4f0a-f5f4-0cafe2122a09"
      },
      "execution_count": 129,
      "outputs": [
        {
          "output_type": "execute_result",
          "data": {
            "text/plain": [
              "((3404,), (1460,))"
            ]
          },
          "metadata": {},
          "execution_count": 129
        }
      ]
    },
    {
      "cell_type": "markdown",
      "source": [
        "##### **Pipeline Implementation**"
      ],
      "metadata": {
        "id": "59h4DCcj57AS"
      }
    },
    {
      "cell_type": "code",
      "source": [
        "# Creating pipelines for classification algorithms with custom parameters\n",
        "\n",
        "pipeline_lr = Pipeline([('model', LogisticRegression(max_iter=5000))])\n",
        "pipeline_svc = Pipeline([('svc_model', SVC(kernel = 'rbf', gamma = 0.01))])\n",
        "pipeline_dc = Pipeline([('dc_model', DecisionTreeClassifier(max_depth=20, random_state=1))])\n",
        "pipeline_rf = Pipeline([('rf_model', RandomForestClassifier(n_estimators = 200, max_depth=10, random_state=1))])\n",
        "pipeline_nb = Pipeline([('guass_model', GaussianNB())])\n",
        "pipeline_xg = Pipeline([('xgboost', XGBClassifier(min_child_weight=2, max_depth = 10, max_leaf_nodes = 8))])\n",
        "\n",
        "# Dictionary with algorithm and pipeline name\n",
        "\n",
        "models = {\n",
        "    'logistic_regression' : pipeline_lr,\n",
        "    'SVM' : pipeline_svc,\n",
        "    'Decision Tree' : pipeline_dc,\n",
        "    'Random Forest' : pipeline_rf,\n",
        "    'Naive Bayes' : pipeline_nb,\n",
        "    'XGBoost' : pipeline_xg\n",
        "}\n",
        "\n"
      ],
      "metadata": {
        "id": "anImjNxuvO0W"
      },
      "execution_count": 130,
      "outputs": []
    },
    {
      "cell_type": "code",
      "source": [
        "# Function to train each model and predict ytest to calculate performance and accuracy\n",
        "\n",
        "def model_prediction(name, model):\n",
        "        model.fit(xtrain, ytrain)\n",
        "        ypred = model.predict(xtest)\n",
        "        precision, recall, f_beta, support = precision_recall_fscore_support(ytest, ypred, beta=2, pos_label=1, average='weighted', zero_division=1)\n",
        "        auc = roc_auc_score(ytest, ypred)\n",
        "        accuracy = accuracy_score(ytest, ypred)\n",
        "        print(f\"Model name : {name}\")\n",
        "        print(f\"Accuracy is: {accuracy:.2f}\")\n",
        "        print(f\"Precision is: {precision:.2f}\")\n",
        "        print(f\"Recall is: {recall:.2f}\")\n",
        "        print(f\"Fscore is: {f_beta:.2f}\")\n",
        "        print(f\"AUC is: {auc:.2f}\\n\")"
      ],
      "metadata": {
        "id": "uxoMXA-EvOxB"
      },
      "execution_count": 131,
      "outputs": []
    },
    {
      "cell_type": "code",
      "source": [
        "# Calling the function \n",
        "for name, model in models.items():\n",
        "  model_prediction(name, model)"
      ],
      "metadata": {
        "colab": {
          "base_uri": "https://localhost:8080/"
        },
        "id": "fHcvEs0avOuZ",
        "outputId": "a0f924a0-a641-42d8-d6b5-84b2982eccde"
      },
      "execution_count": 132,
      "outputs": [
        {
          "output_type": "stream",
          "name": "stdout",
          "text": [
            "Model name : logistic_regression\n",
            "Accuracy is: 0.73\n",
            "Precision is: 0.73\n",
            "Recall is: 0.73\n",
            "Fscore is: 0.73\n",
            "AUC is: 0.73\n",
            "\n",
            "Model name : SVM\n",
            "Accuracy is: 0.85\n",
            "Precision is: 0.85\n",
            "Recall is: 0.85\n",
            "Fscore is: 0.85\n",
            "AUC is: 0.85\n",
            "\n",
            "Model name : Decision Tree\n",
            "Accuracy is: 0.96\n",
            "Precision is: 0.96\n",
            "Recall is: 0.96\n",
            "Fscore is: 0.96\n",
            "AUC is: 0.96\n",
            "\n",
            "Model name : Random Forest\n",
            "Accuracy is: 0.97\n",
            "Precision is: 0.97\n",
            "Recall is: 0.97\n",
            "Fscore is: 0.96\n",
            "AUC is: 0.96\n",
            "\n",
            "Model name : Naive Bayes\n",
            "Accuracy is: 0.79\n",
            "Precision is: 0.79\n",
            "Recall is: 0.79\n",
            "Fscore is: 0.79\n",
            "AUC is: 0.79\n",
            "\n",
            "Model name : XGBoost\n",
            "Accuracy is: 0.96\n",
            "Precision is: 0.97\n",
            "Recall is: 0.96\n",
            "Fscore is: 0.96\n",
            "AUC is: 0.96\n",
            "\n"
          ]
        }
      ]
    },
    {
      "cell_type": "code",
      "source": [
        "df.head()"
      ],
      "metadata": {
        "colab": {
          "base_uri": "https://localhost:8080/",
          "height": 206
        },
        "id": "zxc6Sw7bNWFR",
        "outputId": "fb2656b6-a683-4119-c4ba-eecaec70d5f4"
      },
      "execution_count": 133,
      "outputs": [
        {
          "output_type": "execute_result",
          "data": {
            "text/plain": [
              "   Transaction_Hours  Transaction_Amt  Sender_Bal_b4  isFraud  \\\n",
              "1                  1        11.885440      49.819258        0   \n",
              "2                  1         7.078023      11.261377        1   \n",
              "3                  1         7.078023      11.261377        1   \n",
              "4                  1        16.666040      60.323528        0   \n",
              "5                  1        15.535850      64.918034        0   \n",
              "\n",
              "   Transaction_Type  \n",
              "1                 3  \n",
              "2                 4  \n",
              "3                 1  \n",
              "4                 3  \n",
              "5                 3  "
            ],
            "text/html": [
              "\n",
              "  <div id=\"df-2877fee0-8333-473d-8dd9-39308ec0f44d\">\n",
              "    <div class=\"colab-df-container\">\n",
              "      <div>\n",
              "<style scoped>\n",
              "    .dataframe tbody tr th:only-of-type {\n",
              "        vertical-align: middle;\n",
              "    }\n",
              "\n",
              "    .dataframe tbody tr th {\n",
              "        vertical-align: top;\n",
              "    }\n",
              "\n",
              "    .dataframe thead th {\n",
              "        text-align: right;\n",
              "    }\n",
              "</style>\n",
              "<table border=\"1\" class=\"dataframe\">\n",
              "  <thead>\n",
              "    <tr style=\"text-align: right;\">\n",
              "      <th></th>\n",
              "      <th>Transaction_Hours</th>\n",
              "      <th>Transaction_Amt</th>\n",
              "      <th>Sender_Bal_b4</th>\n",
              "      <th>isFraud</th>\n",
              "      <th>Transaction_Type</th>\n",
              "    </tr>\n",
              "  </thead>\n",
              "  <tbody>\n",
              "    <tr>\n",
              "      <th>1</th>\n",
              "      <td>1</td>\n",
              "      <td>11.885440</td>\n",
              "      <td>49.819258</td>\n",
              "      <td>0</td>\n",
              "      <td>3</td>\n",
              "    </tr>\n",
              "    <tr>\n",
              "      <th>2</th>\n",
              "      <td>1</td>\n",
              "      <td>7.078023</td>\n",
              "      <td>11.261377</td>\n",
              "      <td>1</td>\n",
              "      <td>4</td>\n",
              "    </tr>\n",
              "    <tr>\n",
              "      <th>3</th>\n",
              "      <td>1</td>\n",
              "      <td>7.078023</td>\n",
              "      <td>11.261377</td>\n",
              "      <td>1</td>\n",
              "      <td>1</td>\n",
              "    </tr>\n",
              "    <tr>\n",
              "      <th>4</th>\n",
              "      <td>1</td>\n",
              "      <td>16.666040</td>\n",
              "      <td>60.323528</td>\n",
              "      <td>0</td>\n",
              "      <td>3</td>\n",
              "    </tr>\n",
              "    <tr>\n",
              "      <th>5</th>\n",
              "      <td>1</td>\n",
              "      <td>15.535850</td>\n",
              "      <td>64.918034</td>\n",
              "      <td>0</td>\n",
              "      <td>3</td>\n",
              "    </tr>\n",
              "  </tbody>\n",
              "</table>\n",
              "</div>\n",
              "      <button class=\"colab-df-convert\" onclick=\"convertToInteractive('df-2877fee0-8333-473d-8dd9-39308ec0f44d')\"\n",
              "              title=\"Convert this dataframe to an interactive table.\"\n",
              "              style=\"display:none;\">\n",
              "        \n",
              "  <svg xmlns=\"http://www.w3.org/2000/svg\" height=\"24px\"viewBox=\"0 0 24 24\"\n",
              "       width=\"24px\">\n",
              "    <path d=\"M0 0h24v24H0V0z\" fill=\"none\"/>\n",
              "    <path d=\"M18.56 5.44l.94 2.06.94-2.06 2.06-.94-2.06-.94-.94-2.06-.94 2.06-2.06.94zm-11 1L8.5 8.5l.94-2.06 2.06-.94-2.06-.94L8.5 2.5l-.94 2.06-2.06.94zm10 10l.94 2.06.94-2.06 2.06-.94-2.06-.94-.94-2.06-.94 2.06-2.06.94z\"/><path d=\"M17.41 7.96l-1.37-1.37c-.4-.4-.92-.59-1.43-.59-.52 0-1.04.2-1.43.59L10.3 9.45l-7.72 7.72c-.78.78-.78 2.05 0 2.83L4 21.41c.39.39.9.59 1.41.59.51 0 1.02-.2 1.41-.59l7.78-7.78 2.81-2.81c.8-.78.8-2.07 0-2.86zM5.41 20L4 18.59l7.72-7.72 1.47 1.35L5.41 20z\"/>\n",
              "  </svg>\n",
              "      </button>\n",
              "      \n",
              "  <style>\n",
              "    .colab-df-container {\n",
              "      display:flex;\n",
              "      flex-wrap:wrap;\n",
              "      gap: 12px;\n",
              "    }\n",
              "\n",
              "    .colab-df-convert {\n",
              "      background-color: #E8F0FE;\n",
              "      border: none;\n",
              "      border-radius: 50%;\n",
              "      cursor: pointer;\n",
              "      display: none;\n",
              "      fill: #1967D2;\n",
              "      height: 32px;\n",
              "      padding: 0 0 0 0;\n",
              "      width: 32px;\n",
              "    }\n",
              "\n",
              "    .colab-df-convert:hover {\n",
              "      background-color: #E2EBFA;\n",
              "      box-shadow: 0px 1px 2px rgba(60, 64, 67, 0.3), 0px 1px 3px 1px rgba(60, 64, 67, 0.15);\n",
              "      fill: #174EA6;\n",
              "    }\n",
              "\n",
              "    [theme=dark] .colab-df-convert {\n",
              "      background-color: #3B4455;\n",
              "      fill: #D2E3FC;\n",
              "    }\n",
              "\n",
              "    [theme=dark] .colab-df-convert:hover {\n",
              "      background-color: #434B5C;\n",
              "      box-shadow: 0px 1px 3px 1px rgba(0, 0, 0, 0.15);\n",
              "      filter: drop-shadow(0px 1px 2px rgba(0, 0, 0, 0.3));\n",
              "      fill: #FFFFFF;\n",
              "    }\n",
              "  </style>\n",
              "\n",
              "      <script>\n",
              "        const buttonEl =\n",
              "          document.querySelector('#df-2877fee0-8333-473d-8dd9-39308ec0f44d button.colab-df-convert');\n",
              "        buttonEl.style.display =\n",
              "          google.colab.kernel.accessAllowed ? 'block' : 'none';\n",
              "\n",
              "        async function convertToInteractive(key) {\n",
              "          const element = document.querySelector('#df-2877fee0-8333-473d-8dd9-39308ec0f44d');\n",
              "          const dataTable =\n",
              "            await google.colab.kernel.invokeFunction('convertToInteractive',\n",
              "                                                     [key], {});\n",
              "          if (!dataTable) return;\n",
              "\n",
              "          const docLinkHtml = 'Like what you see? Visit the ' +\n",
              "            '<a target=\"_blank\" href=https://colab.research.google.com/notebooks/data_table.ipynb>data table notebook</a>'\n",
              "            + ' to learn more about interactive tables.';\n",
              "          element.innerHTML = '';\n",
              "          dataTable['output_type'] = 'display_data';\n",
              "          await google.colab.output.renderOutput(dataTable, element);\n",
              "          const docLink = document.createElement('div');\n",
              "          docLink.innerHTML = docLinkHtml;\n",
              "          element.appendChild(docLink);\n",
              "        }\n",
              "      </script>\n",
              "    </div>\n",
              "  </div>\n",
              "  "
            ]
          },
          "metadata": {},
          "execution_count": 133
        }
      ]
    },
    {
      "cell_type": "markdown",
      "source": [
        "#### Testing"
      ],
      "metadata": {
        "id": "D2hI7D7nQsx-"
      }
    },
    {
      "cell_type": "code",
      "source": [
        "def testing(name, model):\n",
        "  print(f'{name} prediction for actual output [0] is : ', model.predict([[1, 15, 50, 3]]))\n",
        "  print(f'{name} prediction for actual output [1] is : ', model.predict([[1, 7, 11, 4]]))\n",
        "\n",
        "modelss = {\n",
        "    'logistic_regression' : pipeline_lr,\n",
        "    'SVM' : pipeline_svc,\n",
        "    'Decision Tree' : pipeline_dc,\n",
        "    'Random Forest' : pipeline_rf,\n",
        "    'Naive Bayes' : pipeline_nb\n",
        "}\n"
      ],
      "metadata": {
        "id": "gAVbFX2_447r"
      },
      "execution_count": 134,
      "outputs": []
    },
    {
      "cell_type": "code",
      "source": [
        "# Calling the function \n",
        "for name, model in modelss.items():\n",
        "  testing(name, model)"
      ],
      "metadata": {
        "colab": {
          "base_uri": "https://localhost:8080/"
        },
        "id": "EUg3SLk6LjhH",
        "outputId": "6b096c86-1d61-4ed4-e615-dc950912eb70"
      },
      "execution_count": 135,
      "outputs": [
        {
          "output_type": "stream",
          "name": "stdout",
          "text": [
            "logistic_regression prediction for actual output [0] is :  [0]\n",
            "logistic_regression prediction for actual output [1] is :  [0]\n",
            "SVM prediction for actual output [0] is :  [1]\n",
            "SVM prediction for actual output [1] is :  [1]\n",
            "Decision Tree prediction for actual output [0] is :  [0]\n",
            "Decision Tree prediction for actual output [1] is :  [1]\n",
            "Random Forest prediction for actual output [0] is :  [0]\n",
            "Random Forest prediction for actual output [1] is :  [1]\n",
            "Naive Bayes prediction for actual output [0] is :  [0]\n",
            "Naive Bayes prediction for actual output [1] is :  [0]\n"
          ]
        }
      ]
    },
    {
      "cell_type": "markdown",
      "source": [
        "##### **Best Model**\n",
        "\n",
        "Decision Tree and Random Forest performs best with prediction accuracy 97 and recall accuracy 97 which is important for our problem statement where false negative is our priority"
      ],
      "metadata": {
        "id": "PybxvTsewEC6"
      }
    },
    {
      "cell_type": "markdown",
      "source": [
        "#### **Prevention**\n",
        "\n",
        "\n",
        "\n",
        "*  Transaction History and Frequency - if unaccounted transactions occurs frequently we should confirm genuinity of the transaction with the customer\n",
        "*  Repeated wrong PIN or Password - We should halt the transaction and alert the customer immediately.\n",
        "*  Make customers to change PIN or password often\n",
        "*  Instruct user to use own mobile or computers while doing transactions to avoid phishing attacks\n",
        "*  Increased cybersecurity for banking websites and mobile applications\n",
        "*  Two factor authentication for transaction  \n"
      ],
      "metadata": {
        "id": "QqWckgPonKZW"
      }
    }
  ]
}